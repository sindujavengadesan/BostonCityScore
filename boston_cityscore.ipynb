{
 "cells": [
  {
   "cell_type": "markdown",
   "metadata": {},
   "source": [
    "Boston City Score Dataset - EDA"
   ]
  },
  {
   "cell_type": "code",
   "execution_count": 1,
   "metadata": {},
   "outputs": [],
   "source": [
    "#import libraries\n",
    "import pandas as pd \n",
    "import numpy as np "
   ]
  },
  {
   "cell_type": "code",
   "execution_count": 2,
   "metadata": {},
   "outputs": [],
   "source": [
    "#read csv \n",
    "boston_cityscore = pd.read_csv('Boston_CityScore.csv')"
   ]
  },
  {
   "cell_type": "markdown",
   "metadata": {},
   "source": [
    "Understanding the Data "
   ]
  },
  {
   "cell_type": "code",
   "execution_count": 3,
   "metadata": {},
   "outputs": [
    {
     "data": {
      "text/html": [
       "<div>\n",
       "<style scoped>\n",
       "    .dataframe tbody tr th:only-of-type {\n",
       "        vertical-align: middle;\n",
       "    }\n",
       "\n",
       "    .dataframe tbody tr th {\n",
       "        vertical-align: top;\n",
       "    }\n",
       "\n",
       "    .dataframe thead th {\n",
       "        text-align: right;\n",
       "    }\n",
       "</style>\n",
       "<table border=\"1\" class=\"dataframe\">\n",
       "  <thead>\n",
       "    <tr style=\"text-align: right;\">\n",
       "      <th></th>\n",
       "      <th>metric_name</th>\n",
       "      <th>score_calculated_ts</th>\n",
       "      <th>target</th>\n",
       "      <th>metric_logic</th>\n",
       "      <th>day_score</th>\n",
       "      <th>day_numerator</th>\n",
       "      <th>day_denominator</th>\n",
       "      <th>week_score</th>\n",
       "      <th>week_numerator</th>\n",
       "      <th>week_denominator</th>\n",
       "      <th>month_score</th>\n",
       "      <th>month_numerator</th>\n",
       "      <th>month_denominator</th>\n",
       "      <th>quarter_score</th>\n",
       "      <th>quarter_numerator</th>\n",
       "      <th>quarter_denominator</th>\n",
       "      <th>latest_score_flag</th>\n",
       "    </tr>\n",
       "  </thead>\n",
       "  <tbody>\n",
       "    <tr>\n",
       "      <th>0</th>\n",
       "      <td>GRAFFITI ON-TIME %</td>\n",
       "      <td>2018-03-08 14:42:07</td>\n",
       "      <td>0.80</td>\n",
       "      <td>sum(numerator_value)/sum(denominator_value)/ta...</td>\n",
       "      <td>NaN</td>\n",
       "      <td>NaN</td>\n",
       "      <td>NaN</td>\n",
       "      <td>0.709459</td>\n",
       "      <td>21.0</td>\n",
       "      <td>37.0</td>\n",
       "      <td>0.650000</td>\n",
       "      <td>52.0</td>\n",
       "      <td>100.0</td>\n",
       "      <td>0.780142</td>\n",
       "      <td>88.0</td>\n",
       "      <td>141.0</td>\n",
       "      <td>0</td>\n",
       "    </tr>\n",
       "    <tr>\n",
       "      <th>1</th>\n",
       "      <td>311 CONSTITUENT EXPERIENCE SURVEYS</td>\n",
       "      <td>2023-10-16 07:02:57.570514</td>\n",
       "      <td>4.00</td>\n",
       "      <td>sum(numerator_value)/sum(denominator_value)/ta...</td>\n",
       "      <td>NaN</td>\n",
       "      <td>NaN</td>\n",
       "      <td>NaN</td>\n",
       "      <td>NaN</td>\n",
       "      <td>NaN</td>\n",
       "      <td>NaN</td>\n",
       "      <td>1.062500</td>\n",
       "      <td>136.0</td>\n",
       "      <td>32.0</td>\n",
       "      <td>1.030120</td>\n",
       "      <td>342.0</td>\n",
       "      <td>83.0</td>\n",
       "      <td>0</td>\n",
       "    </tr>\n",
       "    <tr>\n",
       "      <th>2</th>\n",
       "      <td>BPS ATTENDANCE</td>\n",
       "      <td>2022-09-24 08:55:19.001364</td>\n",
       "      <td>0.95</td>\n",
       "      <td>average(sum(numerator_value)/sum(denominator_v...</td>\n",
       "      <td>NaN</td>\n",
       "      <td>NaN</td>\n",
       "      <td>NaN</td>\n",
       "      <td>NaN</td>\n",
       "      <td>NaN</td>\n",
       "      <td>NaN</td>\n",
       "      <td>NaN</td>\n",
       "      <td>NaN</td>\n",
       "      <td>NaN</td>\n",
       "      <td>0.896742</td>\n",
       "      <td>723926.0</td>\n",
       "      <td>848512.0</td>\n",
       "      <td>0</td>\n",
       "    </tr>\n",
       "    <tr>\n",
       "      <th>3</th>\n",
       "      <td>CITY SERVICES SATISFACTION SURVEYS</td>\n",
       "      <td>2023-11-30 08:12:11.230929</td>\n",
       "      <td>4.00</td>\n",
       "      <td>sum(numerator_value)/sum(denominator_value)/ta...</td>\n",
       "      <td>0.825000</td>\n",
       "      <td>33.0</td>\n",
       "      <td>10.0</td>\n",
       "      <td>0.824324</td>\n",
       "      <td>122.0</td>\n",
       "      <td>37.0</td>\n",
       "      <td>0.817164</td>\n",
       "      <td>438.0</td>\n",
       "      <td>134.0</td>\n",
       "      <td>0.766698</td>\n",
       "      <td>1607.0</td>\n",
       "      <td>524.0</td>\n",
       "      <td>0</td>\n",
       "    </tr>\n",
       "    <tr>\n",
       "      <th>4</th>\n",
       "      <td>SIGN INSTALLATION ON-TIME %</td>\n",
       "      <td>2023-12-14 08:12:04.799255</td>\n",
       "      <td>0.80</td>\n",
       "      <td>sum(numerator_value)/sum(denominator_value)/ta...</td>\n",
       "      <td>0.855263</td>\n",
       "      <td>13.0</td>\n",
       "      <td>19.0</td>\n",
       "      <td>1.090909</td>\n",
       "      <td>48.0</td>\n",
       "      <td>55.0</td>\n",
       "      <td>1.076389</td>\n",
       "      <td>248.0</td>\n",
       "      <td>288.0</td>\n",
       "      <td>0.820457</td>\n",
       "      <td>531.0</td>\n",
       "      <td>809.0</td>\n",
       "      <td>0</td>\n",
       "    </tr>\n",
       "  </tbody>\n",
       "</table>\n",
       "</div>"
      ],
      "text/plain": [
       "                          metric_name         score_calculated_ts  target  \\\n",
       "0                  GRAFFITI ON-TIME %         2018-03-08 14:42:07    0.80   \n",
       "1  311 CONSTITUENT EXPERIENCE SURVEYS  2023-10-16 07:02:57.570514    4.00   \n",
       "2                      BPS ATTENDANCE  2022-09-24 08:55:19.001364    0.95   \n",
       "3  CITY SERVICES SATISFACTION SURVEYS  2023-11-30 08:12:11.230929    4.00   \n",
       "4         SIGN INSTALLATION ON-TIME %  2023-12-14 08:12:04.799255    0.80   \n",
       "\n",
       "                                        metric_logic  day_score  \\\n",
       "0  sum(numerator_value)/sum(denominator_value)/ta...        NaN   \n",
       "1  sum(numerator_value)/sum(denominator_value)/ta...        NaN   \n",
       "2  average(sum(numerator_value)/sum(denominator_v...        NaN   \n",
       "3  sum(numerator_value)/sum(denominator_value)/ta...   0.825000   \n",
       "4  sum(numerator_value)/sum(denominator_value)/ta...   0.855263   \n",
       "\n",
       "   day_numerator  day_denominator  week_score  week_numerator  \\\n",
       "0            NaN              NaN    0.709459            21.0   \n",
       "1            NaN              NaN         NaN             NaN   \n",
       "2            NaN              NaN         NaN             NaN   \n",
       "3           33.0             10.0    0.824324           122.0   \n",
       "4           13.0             19.0    1.090909            48.0   \n",
       "\n",
       "   week_denominator  month_score  month_numerator  month_denominator  \\\n",
       "0              37.0     0.650000             52.0              100.0   \n",
       "1               NaN     1.062500            136.0               32.0   \n",
       "2               NaN          NaN              NaN                NaN   \n",
       "3              37.0     0.817164            438.0              134.0   \n",
       "4              55.0     1.076389            248.0              288.0   \n",
       "\n",
       "   quarter_score  quarter_numerator  quarter_denominator  latest_score_flag  \n",
       "0       0.780142               88.0                141.0                  0  \n",
       "1       1.030120              342.0                 83.0                  0  \n",
       "2       0.896742           723926.0             848512.0                  0  \n",
       "3       0.766698             1607.0                524.0                  0  \n",
       "4       0.820457              531.0                809.0                  0  "
      ]
     },
     "execution_count": 3,
     "metadata": {},
     "output_type": "execute_result"
    }
   ],
   "source": [
    "boston_cityscore.head(5)"
   ]
  },
  {
   "cell_type": "code",
   "execution_count": 4,
   "metadata": {},
   "outputs": [
    {
     "data": {
      "text/plain": [
       "(51335, 17)"
      ]
     },
     "execution_count": 4,
     "metadata": {},
     "output_type": "execute_result"
    }
   ],
   "source": [
    "boston_cityscore.shape"
   ]
  },
  {
   "cell_type": "markdown",
   "metadata": {},
   "source": [
    "Cleaning Data"
   ]
  },
  {
   "cell_type": "code",
   "execution_count": 75,
   "metadata": {},
   "outputs": [],
   "source": [
    "bcs_subset = boston_cityscore[['metric_name', 'score_calculated_ts', 'day_score']]"
   ]
  },
  {
   "cell_type": "code",
   "execution_count": 76,
   "metadata": {},
   "outputs": [
    {
     "name": "stderr",
     "output_type": "stream",
     "text": [
      "/var/folders/zk/gt6dlj713295ct5gwkvq9pp40000gn/T/ipykernel_1079/300040374.py:1: SettingWithCopyWarning: \n",
      "A value is trying to be set on a copy of a slice from a DataFrame.\n",
      "Try using .loc[row_indexer,col_indexer] = value instead\n",
      "\n",
      "See the caveats in the documentation: https://pandas.pydata.org/pandas-docs/stable/user_guide/indexing.html#returning-a-view-versus-a-copy\n",
      "  bcs_subset['recorded_date']=bcs_subset['score_calculated_ts'].str.split(' ', expand=True)[0]\n"
     ]
    }
   ],
   "source": [
    "bcs_subset['recorded_date']=bcs_subset['score_calculated_ts'].str.split(' ', expand=True)[0]"
   ]
  },
  {
   "cell_type": "code",
   "execution_count": 77,
   "metadata": {},
   "outputs": [],
   "source": [
    "bcs_subset= bcs_subset.drop(['score_calculated_ts'], axis=1)"
   ]
  },
  {
   "cell_type": "code",
   "execution_count": 78,
   "metadata": {},
   "outputs": [
    {
     "data": {
      "text/html": [
       "<div>\n",
       "<style scoped>\n",
       "    .dataframe tbody tr th:only-of-type {\n",
       "        vertical-align: middle;\n",
       "    }\n",
       "\n",
       "    .dataframe tbody tr th {\n",
       "        vertical-align: top;\n",
       "    }\n",
       "\n",
       "    .dataframe thead th {\n",
       "        text-align: right;\n",
       "    }\n",
       "</style>\n",
       "<table border=\"1\" class=\"dataframe\">\n",
       "  <thead>\n",
       "    <tr style=\"text-align: right;\">\n",
       "      <th></th>\n",
       "      <th>metric_name</th>\n",
       "      <th>day_score</th>\n",
       "      <th>recorded_date</th>\n",
       "    </tr>\n",
       "  </thead>\n",
       "  <tbody>\n",
       "    <tr>\n",
       "      <th>0</th>\n",
       "      <td>GRAFFITI ON-TIME %</td>\n",
       "      <td>NaN</td>\n",
       "      <td>2018-03-08</td>\n",
       "    </tr>\n",
       "    <tr>\n",
       "      <th>1</th>\n",
       "      <td>311 CONSTITUENT EXPERIENCE SURVEYS</td>\n",
       "      <td>NaN</td>\n",
       "      <td>2023-10-16</td>\n",
       "    </tr>\n",
       "    <tr>\n",
       "      <th>2</th>\n",
       "      <td>BPS ATTENDANCE</td>\n",
       "      <td>NaN</td>\n",
       "      <td>2022-09-24</td>\n",
       "    </tr>\n",
       "    <tr>\n",
       "      <th>3</th>\n",
       "      <td>CITY SERVICES SATISFACTION SURVEYS</td>\n",
       "      <td>0.825000</td>\n",
       "      <td>2023-11-30</td>\n",
       "    </tr>\n",
       "    <tr>\n",
       "      <th>4</th>\n",
       "      <td>SIGN INSTALLATION ON-TIME %</td>\n",
       "      <td>0.855263</td>\n",
       "      <td>2023-12-14</td>\n",
       "    </tr>\n",
       "    <tr>\n",
       "      <th>...</th>\n",
       "      <td>...</td>\n",
       "      <td>...</td>\n",
       "      <td>...</td>\n",
       "    </tr>\n",
       "    <tr>\n",
       "      <th>51330</th>\n",
       "      <td>311 CONSTITUENT EXPERIENCE SURVEYS</td>\n",
       "      <td>NaN</td>\n",
       "      <td>2018-03-13</td>\n",
       "    </tr>\n",
       "    <tr>\n",
       "      <th>51331</th>\n",
       "      <td>GRAFFITI ON-TIME %</td>\n",
       "      <td>NaN</td>\n",
       "      <td>2021-10-24</td>\n",
       "    </tr>\n",
       "    <tr>\n",
       "      <th>51332</th>\n",
       "      <td>SIGN INSTALLATION ON-TIME %</td>\n",
       "      <td>0.795455</td>\n",
       "      <td>2021-11-02</td>\n",
       "    </tr>\n",
       "    <tr>\n",
       "      <th>51333</th>\n",
       "      <td>PARKS MAINTENANCE ON-TIME %</td>\n",
       "      <td>1.250000</td>\n",
       "      <td>2021-11-02</td>\n",
       "    </tr>\n",
       "    <tr>\n",
       "      <th>51334</th>\n",
       "      <td>TREE MAINTENANCE ON-TIME %</td>\n",
       "      <td>0.937500</td>\n",
       "      <td>2021-11-02</td>\n",
       "    </tr>\n",
       "  </tbody>\n",
       "</table>\n",
       "<p>51335 rows × 3 columns</p>\n",
       "</div>"
      ],
      "text/plain": [
       "                              metric_name  day_score recorded_date\n",
       "0                      GRAFFITI ON-TIME %        NaN    2018-03-08\n",
       "1      311 CONSTITUENT EXPERIENCE SURVEYS        NaN    2023-10-16\n",
       "2                          BPS ATTENDANCE        NaN    2022-09-24\n",
       "3      CITY SERVICES SATISFACTION SURVEYS   0.825000    2023-11-30\n",
       "4             SIGN INSTALLATION ON-TIME %   0.855263    2023-12-14\n",
       "...                                   ...        ...           ...\n",
       "51330  311 CONSTITUENT EXPERIENCE SURVEYS        NaN    2018-03-13\n",
       "51331                  GRAFFITI ON-TIME %        NaN    2021-10-24\n",
       "51332         SIGN INSTALLATION ON-TIME %   0.795455    2021-11-02\n",
       "51333         PARKS MAINTENANCE ON-TIME %   1.250000    2021-11-02\n",
       "51334          TREE MAINTENANCE ON-TIME %   0.937500    2021-11-02\n",
       "\n",
       "[51335 rows x 3 columns]"
      ]
     },
     "execution_count": 78,
     "metadata": {},
     "output_type": "execute_result"
    }
   ],
   "source": [
    "bcs_subset"
   ]
  },
  {
   "cell_type": "code",
   "execution_count": 79,
   "metadata": {},
   "outputs": [],
   "source": [
    "bcs_subset['recorded_date'] = pd.to_datetime(bcs_subset['recorded_date'])\n",
    "bcs_subset['year'] = bcs_subset['recorded_date'].dt.year"
   ]
  },
  {
   "cell_type": "code",
   "execution_count": 80,
   "metadata": {},
   "outputs": [
    {
     "data": {
      "text/plain": [
       "(51335, 4)"
      ]
     },
     "execution_count": 80,
     "metadata": {},
     "output_type": "execute_result"
    }
   ],
   "source": [
    "bcs_subset.shape"
   ]
  },
  {
   "cell_type": "code",
   "execution_count": 83,
   "metadata": {},
   "outputs": [],
   "source": [
    "bcs_subset=bcs_subset.drop_duplicates()"
   ]
  },
  {
   "cell_type": "code",
   "execution_count": 84,
   "metadata": {},
   "outputs": [
    {
     "data": {
      "text/plain": [
       "(48568, 4)"
      ]
     },
     "execution_count": 84,
     "metadata": {},
     "output_type": "execute_result"
    }
   ],
   "source": [
    "bcs_subset.shape"
   ]
  },
  {
   "cell_type": "code",
   "execution_count": 85,
   "metadata": {},
   "outputs": [],
   "source": [
    "bcs_subset = bcs_subset.drop(bcs_subset[bcs_subset.year == 2024].index)"
   ]
  },
  {
   "cell_type": "code",
   "execution_count": 86,
   "metadata": {},
   "outputs": [],
   "source": [
    "bcs_subset=bcs_subset.fillna(0)"
   ]
  },
  {
   "cell_type": "code",
   "execution_count": 87,
   "metadata": {},
   "outputs": [
    {
     "data": {
      "text/html": [
       "<div>\n",
       "<style scoped>\n",
       "    .dataframe tbody tr th:only-of-type {\n",
       "        vertical-align: middle;\n",
       "    }\n",
       "\n",
       "    .dataframe tbody tr th {\n",
       "        vertical-align: top;\n",
       "    }\n",
       "\n",
       "    .dataframe thead th {\n",
       "        text-align: right;\n",
       "    }\n",
       "</style>\n",
       "<table border=\"1\" class=\"dataframe\">\n",
       "  <thead>\n",
       "    <tr style=\"text-align: right;\">\n",
       "      <th></th>\n",
       "      <th>metric_name</th>\n",
       "      <th>day_score</th>\n",
       "      <th>recorded_date</th>\n",
       "      <th>year</th>\n",
       "    </tr>\n",
       "  </thead>\n",
       "  <tbody>\n",
       "    <tr>\n",
       "      <th>0</th>\n",
       "      <td>GRAFFITI ON-TIME %</td>\n",
       "      <td>0.000000</td>\n",
       "      <td>2018-03-08</td>\n",
       "      <td>2018</td>\n",
       "    </tr>\n",
       "    <tr>\n",
       "      <th>1</th>\n",
       "      <td>311 CONSTITUENT EXPERIENCE SURVEYS</td>\n",
       "      <td>0.000000</td>\n",
       "      <td>2023-10-16</td>\n",
       "      <td>2023</td>\n",
       "    </tr>\n",
       "    <tr>\n",
       "      <th>2</th>\n",
       "      <td>BPS ATTENDANCE</td>\n",
       "      <td>0.000000</td>\n",
       "      <td>2022-09-24</td>\n",
       "      <td>2022</td>\n",
       "    </tr>\n",
       "    <tr>\n",
       "      <th>3</th>\n",
       "      <td>CITY SERVICES SATISFACTION SURVEYS</td>\n",
       "      <td>0.825000</td>\n",
       "      <td>2023-11-30</td>\n",
       "      <td>2023</td>\n",
       "    </tr>\n",
       "    <tr>\n",
       "      <th>4</th>\n",
       "      <td>SIGN INSTALLATION ON-TIME %</td>\n",
       "      <td>0.855263</td>\n",
       "      <td>2023-12-14</td>\n",
       "      <td>2023</td>\n",
       "    </tr>\n",
       "    <tr>\n",
       "      <th>...</th>\n",
       "      <td>...</td>\n",
       "      <td>...</td>\n",
       "      <td>...</td>\n",
       "      <td>...</td>\n",
       "    </tr>\n",
       "    <tr>\n",
       "      <th>51329</th>\n",
       "      <td>LIBRARY USERS</td>\n",
       "      <td>0.000000</td>\n",
       "      <td>2020-03-26</td>\n",
       "      <td>2020</td>\n",
       "    </tr>\n",
       "    <tr>\n",
       "      <th>51331</th>\n",
       "      <td>GRAFFITI ON-TIME %</td>\n",
       "      <td>0.000000</td>\n",
       "      <td>2021-10-24</td>\n",
       "      <td>2021</td>\n",
       "    </tr>\n",
       "    <tr>\n",
       "      <th>51332</th>\n",
       "      <td>SIGN INSTALLATION ON-TIME %</td>\n",
       "      <td>0.795455</td>\n",
       "      <td>2021-11-02</td>\n",
       "      <td>2021</td>\n",
       "    </tr>\n",
       "    <tr>\n",
       "      <th>51333</th>\n",
       "      <td>PARKS MAINTENANCE ON-TIME %</td>\n",
       "      <td>1.250000</td>\n",
       "      <td>2021-11-02</td>\n",
       "      <td>2021</td>\n",
       "    </tr>\n",
       "    <tr>\n",
       "      <th>51334</th>\n",
       "      <td>TREE MAINTENANCE ON-TIME %</td>\n",
       "      <td>0.937500</td>\n",
       "      <td>2021-11-02</td>\n",
       "      <td>2021</td>\n",
       "    </tr>\n",
       "  </tbody>\n",
       "</table>\n",
       "<p>48131 rows × 4 columns</p>\n",
       "</div>"
      ],
      "text/plain": [
       "                              metric_name  day_score recorded_date  year\n",
       "0                      GRAFFITI ON-TIME %   0.000000    2018-03-08  2018\n",
       "1      311 CONSTITUENT EXPERIENCE SURVEYS   0.000000    2023-10-16  2023\n",
       "2                          BPS ATTENDANCE   0.000000    2022-09-24  2022\n",
       "3      CITY SERVICES SATISFACTION SURVEYS   0.825000    2023-11-30  2023\n",
       "4             SIGN INSTALLATION ON-TIME %   0.855263    2023-12-14  2023\n",
       "...                                   ...        ...           ...   ...\n",
       "51329                       LIBRARY USERS   0.000000    2020-03-26  2020\n",
       "51331                  GRAFFITI ON-TIME %   0.000000    2021-10-24  2021\n",
       "51332         SIGN INSTALLATION ON-TIME %   0.795455    2021-11-02  2021\n",
       "51333         PARKS MAINTENANCE ON-TIME %   1.250000    2021-11-02  2021\n",
       "51334          TREE MAINTENANCE ON-TIME %   0.937500    2021-11-02  2021\n",
       "\n",
       "[48131 rows x 4 columns]"
      ]
     },
     "execution_count": 87,
     "metadata": {},
     "output_type": "execute_result"
    }
   ],
   "source": [
    "bcs_subset"
   ]
  },
  {
   "cell_type": "code",
   "execution_count": 88,
   "metadata": {},
   "outputs": [],
   "source": [
    "bcs_yearly_data = bcs_subset.groupby(['metric_name', 'year'], as_index=False)['day_score'].count()"
   ]
  },
  {
   "cell_type": "code",
   "execution_count": 89,
   "metadata": {},
   "outputs": [
    {
     "data": {
      "text/html": [
       "<div>\n",
       "<style scoped>\n",
       "    .dataframe tbody tr th:only-of-type {\n",
       "        vertical-align: middle;\n",
       "    }\n",
       "\n",
       "    .dataframe tbody tr th {\n",
       "        vertical-align: top;\n",
       "    }\n",
       "\n",
       "    .dataframe thead th {\n",
       "        text-align: right;\n",
       "    }\n",
       "</style>\n",
       "<table border=\"1\" class=\"dataframe\">\n",
       "  <thead>\n",
       "    <tr style=\"text-align: right;\">\n",
       "      <th></th>\n",
       "      <th>metric_name</th>\n",
       "      <th>year</th>\n",
       "      <th>day_score</th>\n",
       "    </tr>\n",
       "  </thead>\n",
       "  <tbody>\n",
       "    <tr>\n",
       "      <th>0</th>\n",
       "      <td>311 CALL CENTER PERFORMANCE</td>\n",
       "      <td>2018</td>\n",
       "      <td>347</td>\n",
       "    </tr>\n",
       "    <tr>\n",
       "      <th>1</th>\n",
       "      <td>311 CALL CENTER PERFORMANCE</td>\n",
       "      <td>2019</td>\n",
       "      <td>363</td>\n",
       "    </tr>\n",
       "    <tr>\n",
       "      <th>2</th>\n",
       "      <td>311 CALL CENTER PERFORMANCE</td>\n",
       "      <td>2020</td>\n",
       "      <td>367</td>\n",
       "    </tr>\n",
       "    <tr>\n",
       "      <th>3</th>\n",
       "      <td>311 CALL CENTER PERFORMANCE</td>\n",
       "      <td>2021</td>\n",
       "      <td>363</td>\n",
       "    </tr>\n",
       "    <tr>\n",
       "      <th>4</th>\n",
       "      <td>311 CALL CENTER PERFORMANCE</td>\n",
       "      <td>2022</td>\n",
       "      <td>347</td>\n",
       "    </tr>\n",
       "    <tr>\n",
       "      <th>...</th>\n",
       "      <td>...</td>\n",
       "      <td>...</td>\n",
       "      <td>...</td>\n",
       "    </tr>\n",
       "    <tr>\n",
       "      <th>132</th>\n",
       "      <td>TREE MAINTENANCE ON-TIME %</td>\n",
       "      <td>2019</td>\n",
       "      <td>360</td>\n",
       "    </tr>\n",
       "    <tr>\n",
       "      <th>133</th>\n",
       "      <td>TREE MAINTENANCE ON-TIME %</td>\n",
       "      <td>2020</td>\n",
       "      <td>368</td>\n",
       "    </tr>\n",
       "    <tr>\n",
       "      <th>134</th>\n",
       "      <td>TREE MAINTENANCE ON-TIME %</td>\n",
       "      <td>2021</td>\n",
       "      <td>362</td>\n",
       "    </tr>\n",
       "    <tr>\n",
       "      <th>135</th>\n",
       "      <td>TREE MAINTENANCE ON-TIME %</td>\n",
       "      <td>2022</td>\n",
       "      <td>350</td>\n",
       "    </tr>\n",
       "    <tr>\n",
       "      <th>136</th>\n",
       "      <td>TREE MAINTENANCE ON-TIME %</td>\n",
       "      <td>2023</td>\n",
       "      <td>360</td>\n",
       "    </tr>\n",
       "  </tbody>\n",
       "</table>\n",
       "<p>137 rows × 3 columns</p>\n",
       "</div>"
      ],
      "text/plain": [
       "                     metric_name  year  day_score\n",
       "0    311 CALL CENTER PERFORMANCE  2018        347\n",
       "1    311 CALL CENTER PERFORMANCE  2019        363\n",
       "2    311 CALL CENTER PERFORMANCE  2020        367\n",
       "3    311 CALL CENTER PERFORMANCE  2021        363\n",
       "4    311 CALL CENTER PERFORMANCE  2022        347\n",
       "..                           ...   ...        ...\n",
       "132   TREE MAINTENANCE ON-TIME %  2019        360\n",
       "133   TREE MAINTENANCE ON-TIME %  2020        368\n",
       "134   TREE MAINTENANCE ON-TIME %  2021        362\n",
       "135   TREE MAINTENANCE ON-TIME %  2022        350\n",
       "136   TREE MAINTENANCE ON-TIME %  2023        360\n",
       "\n",
       "[137 rows x 3 columns]"
      ]
     },
     "execution_count": 89,
     "metadata": {},
     "output_type": "execute_result"
    }
   ],
   "source": [
    "bcs_subset.groupby(['metric_name', 'year'], as_index=False)['day_score'].count()"
   ]
  },
  {
   "cell_type": "code",
   "execution_count": 90,
   "metadata": {},
   "outputs": [],
   "source": [
    "bcs_yearly_data=bcs_yearly_data.rename({'day_score':'count_recorded_days'}, axis=1)"
   ]
  },
  {
   "cell_type": "code",
   "execution_count": 91,
   "metadata": {},
   "outputs": [
    {
     "data": {
      "text/html": [
       "<div>\n",
       "<style scoped>\n",
       "    .dataframe tbody tr th:only-of-type {\n",
       "        vertical-align: middle;\n",
       "    }\n",
       "\n",
       "    .dataframe tbody tr th {\n",
       "        vertical-align: top;\n",
       "    }\n",
       "\n",
       "    .dataframe thead th {\n",
       "        text-align: right;\n",
       "    }\n",
       "</style>\n",
       "<table border=\"1\" class=\"dataframe\">\n",
       "  <thead>\n",
       "    <tr style=\"text-align: right;\">\n",
       "      <th></th>\n",
       "      <th>metric_name</th>\n",
       "      <th>year</th>\n",
       "      <th>count_recorded_days</th>\n",
       "    </tr>\n",
       "  </thead>\n",
       "  <tbody>\n",
       "    <tr>\n",
       "      <th>0</th>\n",
       "      <td>311 CALL CENTER PERFORMANCE</td>\n",
       "      <td>2018</td>\n",
       "      <td>347</td>\n",
       "    </tr>\n",
       "    <tr>\n",
       "      <th>1</th>\n",
       "      <td>311 CALL CENTER PERFORMANCE</td>\n",
       "      <td>2019</td>\n",
       "      <td>363</td>\n",
       "    </tr>\n",
       "    <tr>\n",
       "      <th>2</th>\n",
       "      <td>311 CALL CENTER PERFORMANCE</td>\n",
       "      <td>2020</td>\n",
       "      <td>367</td>\n",
       "    </tr>\n",
       "    <tr>\n",
       "      <th>3</th>\n",
       "      <td>311 CALL CENTER PERFORMANCE</td>\n",
       "      <td>2021</td>\n",
       "      <td>363</td>\n",
       "    </tr>\n",
       "    <tr>\n",
       "      <th>4</th>\n",
       "      <td>311 CALL CENTER PERFORMANCE</td>\n",
       "      <td>2022</td>\n",
       "      <td>347</td>\n",
       "    </tr>\n",
       "    <tr>\n",
       "      <th>...</th>\n",
       "      <td>...</td>\n",
       "      <td>...</td>\n",
       "      <td>...</td>\n",
       "    </tr>\n",
       "    <tr>\n",
       "      <th>132</th>\n",
       "      <td>TREE MAINTENANCE ON-TIME %</td>\n",
       "      <td>2019</td>\n",
       "      <td>360</td>\n",
       "    </tr>\n",
       "    <tr>\n",
       "      <th>133</th>\n",
       "      <td>TREE MAINTENANCE ON-TIME %</td>\n",
       "      <td>2020</td>\n",
       "      <td>368</td>\n",
       "    </tr>\n",
       "    <tr>\n",
       "      <th>134</th>\n",
       "      <td>TREE MAINTENANCE ON-TIME %</td>\n",
       "      <td>2021</td>\n",
       "      <td>362</td>\n",
       "    </tr>\n",
       "    <tr>\n",
       "      <th>135</th>\n",
       "      <td>TREE MAINTENANCE ON-TIME %</td>\n",
       "      <td>2022</td>\n",
       "      <td>350</td>\n",
       "    </tr>\n",
       "    <tr>\n",
       "      <th>136</th>\n",
       "      <td>TREE MAINTENANCE ON-TIME %</td>\n",
       "      <td>2023</td>\n",
       "      <td>360</td>\n",
       "    </tr>\n",
       "  </tbody>\n",
       "</table>\n",
       "<p>137 rows × 3 columns</p>\n",
       "</div>"
      ],
      "text/plain": [
       "                     metric_name  year  count_recorded_days\n",
       "0    311 CALL CENTER PERFORMANCE  2018                  347\n",
       "1    311 CALL CENTER PERFORMANCE  2019                  363\n",
       "2    311 CALL CENTER PERFORMANCE  2020                  367\n",
       "3    311 CALL CENTER PERFORMANCE  2021                  363\n",
       "4    311 CALL CENTER PERFORMANCE  2022                  347\n",
       "..                           ...   ...                  ...\n",
       "132   TREE MAINTENANCE ON-TIME %  2019                  360\n",
       "133   TREE MAINTENANCE ON-TIME %  2020                  368\n",
       "134   TREE MAINTENANCE ON-TIME %  2021                  362\n",
       "135   TREE MAINTENANCE ON-TIME %  2022                  350\n",
       "136   TREE MAINTENANCE ON-TIME %  2023                  360\n",
       "\n",
       "[137 rows x 3 columns]"
      ]
     },
     "execution_count": 91,
     "metadata": {},
     "output_type": "execute_result"
    }
   ],
   "source": [
    "bcs_yearly_data"
   ]
  },
  {
   "cell_type": "code",
   "execution_count": null,
   "metadata": {},
   "outputs": [],
   "source": [
    "#bcs_yearly_data[bcs_yearly_data['count_recorded_days'] > 366]"
   ]
  },
  {
   "cell_type": "code",
   "execution_count": 93,
   "metadata": {},
   "outputs": [],
   "source": [
    "bcs_good_score = bcs_subset.query(\"day_score >= 1.0\").groupby(['metric_name', 'year'], as_index=False)['day_score'].count()"
   ]
  },
  {
   "cell_type": "code",
   "execution_count": 94,
   "metadata": {},
   "outputs": [],
   "source": [
    "bcs_bad_score = bcs_subset.query(\"day_score < 1.0\").groupby(['metric_name', 'year'], as_index=False)['day_score'].count()"
   ]
  },
  {
   "cell_type": "code",
   "execution_count": 95,
   "metadata": {},
   "outputs": [],
   "source": [
    "bcs_yearly_data=bcs_yearly_data.merge(bcs_good_score, on = ['metric_name', 'year'], how='left')"
   ]
  },
  {
   "cell_type": "code",
   "execution_count": 96,
   "metadata": {},
   "outputs": [],
   "source": [
    "bcs_yearly_data=bcs_yearly_data.merge(bcs_bad_score, on = ['metric_name', 'year'], how='left')"
   ]
  },
  {
   "cell_type": "code",
   "execution_count": 97,
   "metadata": {},
   "outputs": [],
   "source": [
    "bcs_yearly_data=bcs_yearly_data.fillna(0.0)"
   ]
  },
  {
   "cell_type": "code",
   "execution_count": 98,
   "metadata": {},
   "outputs": [
    {
     "data": {
      "text/html": [
       "<div>\n",
       "<style scoped>\n",
       "    .dataframe tbody tr th:only-of-type {\n",
       "        vertical-align: middle;\n",
       "    }\n",
       "\n",
       "    .dataframe tbody tr th {\n",
       "        vertical-align: top;\n",
       "    }\n",
       "\n",
       "    .dataframe thead th {\n",
       "        text-align: right;\n",
       "    }\n",
       "</style>\n",
       "<table border=\"1\" class=\"dataframe\">\n",
       "  <thead>\n",
       "    <tr style=\"text-align: right;\">\n",
       "      <th></th>\n",
       "      <th>metric_name</th>\n",
       "      <th>year</th>\n",
       "      <th>count_recorded_days</th>\n",
       "      <th>day_score_x</th>\n",
       "      <th>day_score_y</th>\n",
       "    </tr>\n",
       "  </thead>\n",
       "  <tbody>\n",
       "    <tr>\n",
       "      <th>0</th>\n",
       "      <td>311 CALL CENTER PERFORMANCE</td>\n",
       "      <td>2018</td>\n",
       "      <td>347</td>\n",
       "      <td>219.0</td>\n",
       "      <td>128</td>\n",
       "    </tr>\n",
       "    <tr>\n",
       "      <th>1</th>\n",
       "      <td>311 CALL CENTER PERFORMANCE</td>\n",
       "      <td>2019</td>\n",
       "      <td>363</td>\n",
       "      <td>142.0</td>\n",
       "      <td>221</td>\n",
       "    </tr>\n",
       "    <tr>\n",
       "      <th>2</th>\n",
       "      <td>311 CALL CENTER PERFORMANCE</td>\n",
       "      <td>2020</td>\n",
       "      <td>367</td>\n",
       "      <td>100.0</td>\n",
       "      <td>267</td>\n",
       "    </tr>\n",
       "    <tr>\n",
       "      <th>3</th>\n",
       "      <td>311 CALL CENTER PERFORMANCE</td>\n",
       "      <td>2021</td>\n",
       "      <td>363</td>\n",
       "      <td>37.0</td>\n",
       "      <td>326</td>\n",
       "    </tr>\n",
       "    <tr>\n",
       "      <th>4</th>\n",
       "      <td>311 CALL CENTER PERFORMANCE</td>\n",
       "      <td>2022</td>\n",
       "      <td>347</td>\n",
       "      <td>28.0</td>\n",
       "      <td>319</td>\n",
       "    </tr>\n",
       "    <tr>\n",
       "      <th>...</th>\n",
       "      <td>...</td>\n",
       "      <td>...</td>\n",
       "      <td>...</td>\n",
       "      <td>...</td>\n",
       "      <td>...</td>\n",
       "    </tr>\n",
       "    <tr>\n",
       "      <th>132</th>\n",
       "      <td>TREE MAINTENANCE ON-TIME %</td>\n",
       "      <td>2019</td>\n",
       "      <td>360</td>\n",
       "      <td>210.0</td>\n",
       "      <td>150</td>\n",
       "    </tr>\n",
       "    <tr>\n",
       "      <th>133</th>\n",
       "      <td>TREE MAINTENANCE ON-TIME %</td>\n",
       "      <td>2020</td>\n",
       "      <td>368</td>\n",
       "      <td>179.0</td>\n",
       "      <td>189</td>\n",
       "    </tr>\n",
       "    <tr>\n",
       "      <th>134</th>\n",
       "      <td>TREE MAINTENANCE ON-TIME %</td>\n",
       "      <td>2021</td>\n",
       "      <td>362</td>\n",
       "      <td>207.0</td>\n",
       "      <td>155</td>\n",
       "    </tr>\n",
       "    <tr>\n",
       "      <th>135</th>\n",
       "      <td>TREE MAINTENANCE ON-TIME %</td>\n",
       "      <td>2022</td>\n",
       "      <td>350</td>\n",
       "      <td>172.0</td>\n",
       "      <td>178</td>\n",
       "    </tr>\n",
       "    <tr>\n",
       "      <th>136</th>\n",
       "      <td>TREE MAINTENANCE ON-TIME %</td>\n",
       "      <td>2023</td>\n",
       "      <td>360</td>\n",
       "      <td>188.0</td>\n",
       "      <td>172</td>\n",
       "    </tr>\n",
       "  </tbody>\n",
       "</table>\n",
       "<p>137 rows × 5 columns</p>\n",
       "</div>"
      ],
      "text/plain": [
       "                     metric_name  year  count_recorded_days  day_score_x  \\\n",
       "0    311 CALL CENTER PERFORMANCE  2018                  347        219.0   \n",
       "1    311 CALL CENTER PERFORMANCE  2019                  363        142.0   \n",
       "2    311 CALL CENTER PERFORMANCE  2020                  367        100.0   \n",
       "3    311 CALL CENTER PERFORMANCE  2021                  363         37.0   \n",
       "4    311 CALL CENTER PERFORMANCE  2022                  347         28.0   \n",
       "..                           ...   ...                  ...          ...   \n",
       "132   TREE MAINTENANCE ON-TIME %  2019                  360        210.0   \n",
       "133   TREE MAINTENANCE ON-TIME %  2020                  368        179.0   \n",
       "134   TREE MAINTENANCE ON-TIME %  2021                  362        207.0   \n",
       "135   TREE MAINTENANCE ON-TIME %  2022                  350        172.0   \n",
       "136   TREE MAINTENANCE ON-TIME %  2023                  360        188.0   \n",
       "\n",
       "     day_score_y  \n",
       "0            128  \n",
       "1            221  \n",
       "2            267  \n",
       "3            326  \n",
       "4            319  \n",
       "..           ...  \n",
       "132          150  \n",
       "133          189  \n",
       "134          155  \n",
       "135          178  \n",
       "136          172  \n",
       "\n",
       "[137 rows x 5 columns]"
      ]
     },
     "execution_count": 98,
     "metadata": {},
     "output_type": "execute_result"
    }
   ],
   "source": [
    "bcs_yearly_data"
   ]
  },
  {
   "cell_type": "code",
   "execution_count": 106,
   "metadata": {},
   "outputs": [],
   "source": [
    "bcs_yearly_data=bcs_yearly_data.rename(columns={'day_score_x':'good_score', 'day_score_y':'bad_score'})"
   ]
  },
  {
   "cell_type": "code",
   "execution_count": 108,
   "metadata": {},
   "outputs": [],
   "source": [
    "bcs_yearly_data['perc_performance_bad'] = bcs_yearly_data['bad_score']/bcs_yearly_data['count_recorded_days']\n",
    "bcs_yearly_data['perc_performance_good'] = bcs_yearly_data['good_score']/bcs_yearly_data['count_recorded_days']"
   ]
  },
  {
   "cell_type": "code",
   "execution_count": 109,
   "metadata": {},
   "outputs": [
    {
     "data": {
      "text/html": [
       "<div>\n",
       "<style scoped>\n",
       "    .dataframe tbody tr th:only-of-type {\n",
       "        vertical-align: middle;\n",
       "    }\n",
       "\n",
       "    .dataframe tbody tr th {\n",
       "        vertical-align: top;\n",
       "    }\n",
       "\n",
       "    .dataframe thead th {\n",
       "        text-align: right;\n",
       "    }\n",
       "</style>\n",
       "<table border=\"1\" class=\"dataframe\">\n",
       "  <thead>\n",
       "    <tr style=\"text-align: right;\">\n",
       "      <th></th>\n",
       "      <th>metric_name</th>\n",
       "      <th>year</th>\n",
       "      <th>count_recorded_days</th>\n",
       "      <th>good_score</th>\n",
       "      <th>bad_score</th>\n",
       "      <th>perc_performance_bad</th>\n",
       "      <th>perc_performance_good</th>\n",
       "    </tr>\n",
       "  </thead>\n",
       "  <tbody>\n",
       "    <tr>\n",
       "      <th>0</th>\n",
       "      <td>311 CALL CENTER PERFORMANCE</td>\n",
       "      <td>2018</td>\n",
       "      <td>347</td>\n",
       "      <td>219.0</td>\n",
       "      <td>128</td>\n",
       "      <td>0.368876</td>\n",
       "      <td>0.631124</td>\n",
       "    </tr>\n",
       "    <tr>\n",
       "      <th>1</th>\n",
       "      <td>311 CALL CENTER PERFORMANCE</td>\n",
       "      <td>2019</td>\n",
       "      <td>363</td>\n",
       "      <td>142.0</td>\n",
       "      <td>221</td>\n",
       "      <td>0.608815</td>\n",
       "      <td>0.391185</td>\n",
       "    </tr>\n",
       "    <tr>\n",
       "      <th>2</th>\n",
       "      <td>311 CALL CENTER PERFORMANCE</td>\n",
       "      <td>2020</td>\n",
       "      <td>367</td>\n",
       "      <td>100.0</td>\n",
       "      <td>267</td>\n",
       "      <td>0.727520</td>\n",
       "      <td>0.272480</td>\n",
       "    </tr>\n",
       "    <tr>\n",
       "      <th>3</th>\n",
       "      <td>311 CALL CENTER PERFORMANCE</td>\n",
       "      <td>2021</td>\n",
       "      <td>363</td>\n",
       "      <td>37.0</td>\n",
       "      <td>326</td>\n",
       "      <td>0.898072</td>\n",
       "      <td>0.101928</td>\n",
       "    </tr>\n",
       "    <tr>\n",
       "      <th>4</th>\n",
       "      <td>311 CALL CENTER PERFORMANCE</td>\n",
       "      <td>2022</td>\n",
       "      <td>347</td>\n",
       "      <td>28.0</td>\n",
       "      <td>319</td>\n",
       "      <td>0.919308</td>\n",
       "      <td>0.080692</td>\n",
       "    </tr>\n",
       "    <tr>\n",
       "      <th>...</th>\n",
       "      <td>...</td>\n",
       "      <td>...</td>\n",
       "      <td>...</td>\n",
       "      <td>...</td>\n",
       "      <td>...</td>\n",
       "      <td>...</td>\n",
       "      <td>...</td>\n",
       "    </tr>\n",
       "    <tr>\n",
       "      <th>132</th>\n",
       "      <td>TREE MAINTENANCE ON-TIME %</td>\n",
       "      <td>2019</td>\n",
       "      <td>360</td>\n",
       "      <td>210.0</td>\n",
       "      <td>150</td>\n",
       "      <td>0.416667</td>\n",
       "      <td>0.583333</td>\n",
       "    </tr>\n",
       "    <tr>\n",
       "      <th>133</th>\n",
       "      <td>TREE MAINTENANCE ON-TIME %</td>\n",
       "      <td>2020</td>\n",
       "      <td>368</td>\n",
       "      <td>179.0</td>\n",
       "      <td>189</td>\n",
       "      <td>0.513587</td>\n",
       "      <td>0.486413</td>\n",
       "    </tr>\n",
       "    <tr>\n",
       "      <th>134</th>\n",
       "      <td>TREE MAINTENANCE ON-TIME %</td>\n",
       "      <td>2021</td>\n",
       "      <td>362</td>\n",
       "      <td>207.0</td>\n",
       "      <td>155</td>\n",
       "      <td>0.428177</td>\n",
       "      <td>0.571823</td>\n",
       "    </tr>\n",
       "    <tr>\n",
       "      <th>135</th>\n",
       "      <td>TREE MAINTENANCE ON-TIME %</td>\n",
       "      <td>2022</td>\n",
       "      <td>350</td>\n",
       "      <td>172.0</td>\n",
       "      <td>178</td>\n",
       "      <td>0.508571</td>\n",
       "      <td>0.491429</td>\n",
       "    </tr>\n",
       "    <tr>\n",
       "      <th>136</th>\n",
       "      <td>TREE MAINTENANCE ON-TIME %</td>\n",
       "      <td>2023</td>\n",
       "      <td>360</td>\n",
       "      <td>188.0</td>\n",
       "      <td>172</td>\n",
       "      <td>0.477778</td>\n",
       "      <td>0.522222</td>\n",
       "    </tr>\n",
       "  </tbody>\n",
       "</table>\n",
       "<p>137 rows × 7 columns</p>\n",
       "</div>"
      ],
      "text/plain": [
       "                     metric_name  year  count_recorded_days  good_score  \\\n",
       "0    311 CALL CENTER PERFORMANCE  2018                  347       219.0   \n",
       "1    311 CALL CENTER PERFORMANCE  2019                  363       142.0   \n",
       "2    311 CALL CENTER PERFORMANCE  2020                  367       100.0   \n",
       "3    311 CALL CENTER PERFORMANCE  2021                  363        37.0   \n",
       "4    311 CALL CENTER PERFORMANCE  2022                  347        28.0   \n",
       "..                           ...   ...                  ...         ...   \n",
       "132   TREE MAINTENANCE ON-TIME %  2019                  360       210.0   \n",
       "133   TREE MAINTENANCE ON-TIME %  2020                  368       179.0   \n",
       "134   TREE MAINTENANCE ON-TIME %  2021                  362       207.0   \n",
       "135   TREE MAINTENANCE ON-TIME %  2022                  350       172.0   \n",
       "136   TREE MAINTENANCE ON-TIME %  2023                  360       188.0   \n",
       "\n",
       "     bad_score  perc_performance_bad  perc_performance_good  \n",
       "0          128              0.368876               0.631124  \n",
       "1          221              0.608815               0.391185  \n",
       "2          267              0.727520               0.272480  \n",
       "3          326              0.898072               0.101928  \n",
       "4          319              0.919308               0.080692  \n",
       "..         ...                   ...                    ...  \n",
       "132        150              0.416667               0.583333  \n",
       "133        189              0.513587               0.486413  \n",
       "134        155              0.428177               0.571823  \n",
       "135        178              0.508571               0.491429  \n",
       "136        172              0.477778               0.522222  \n",
       "\n",
       "[137 rows x 7 columns]"
      ]
     },
     "execution_count": 109,
     "metadata": {},
     "output_type": "execute_result"
    }
   ],
   "source": [
    "bcs_yearly_data"
   ]
  },
  {
   "cell_type": "code",
   "execution_count": 112,
   "metadata": {},
   "outputs": [],
   "source": [
    "import seaborn as sns\n",
    "import matplotlib.pyplot as plt"
   ]
  },
  {
   "cell_type": "code",
   "execution_count": 113,
   "metadata": {},
   "outputs": [],
   "source": [
    "# how many days a year on an average a metric is recorded \n",
    "mean_recorded = bcs_yearly_data['count_recorded_days'].mean()"
   ]
  },
  {
   "cell_type": "code",
   "execution_count": 114,
   "metadata": {},
   "outputs": [],
   "source": [
    "# how many days a year on an average a metric gets good score\n",
    "mean_good = bcs_yearly_data['good_score'].mean()"
   ]
  },
  {
   "cell_type": "code",
   "execution_count": 115,
   "metadata": {},
   "outputs": [
    {
     "data": {
      "text/plain": [
       "138.73722627737226"
      ]
     },
     "execution_count": 115,
     "metadata": {},
     "output_type": "execute_result"
    }
   ],
   "source": [
    "mean_good"
   ]
  },
  {
   "cell_type": "code",
   "execution_count": 116,
   "metadata": {},
   "outputs": [
    {
     "data": {
      "text/plain": [
       "351.3211678832117"
      ]
     },
     "execution_count": 116,
     "metadata": {},
     "output_type": "execute_result"
    }
   ],
   "source": [
    "mean_recorded"
   ]
  },
  {
   "cell_type": "code",
   "execution_count": 131,
   "metadata": {},
   "outputs": [],
   "source": [
    "df_good_heatmap = bcs_yearly_data.pivot(index=\"metric_name\", columns=\"year\", values=\"good_score\")\n",
    "df_bad_heatmap = bcs_yearly_data.pivot(index=\"metric_name\", columns=\"year\", values=\"bad_score\")"
   ]
  },
  {
   "cell_type": "code",
   "execution_count": 129,
   "metadata": {},
   "outputs": [
    {
     "data": {
      "text/plain": [
       "<Axes: xlabel='year', ylabel='metric_name'>"
      ]
     },
     "execution_count": 129,
     "metadata": {},
     "output_type": "execute_result"
    },
    {
     "data": {
      "image/png": "[encoded data removed]",
      "text/plain": [
       "<Figure size 640x480 with 2 Axes>"
      ]
     },
     "metadata": {},
     "output_type": "display_data"
    }
   ],
   "source": [
    "sns.heatmap(df_good_heatmap)"
   ]
  },
  {
   "cell_type": "code",
   "execution_count": 132,
   "metadata": {},
   "outputs": [
    {
     "data": {
      "text/plain": [
       "<Axes: xlabel='year', ylabel='metric_name'>"
      ]
     },
     "execution_count": 132,
     "metadata": {},
     "output_type": "execute_result"
    },
    {
     "data": {
      "image/png": "[encoded data removed]",
      "text/plain": [
       "<Figure size 640x480 with 2 Axes>"
      ]
     },
     "metadata": {},
     "output_type": "display_data"
    }
   ],
   "source": [
    "sns.heatmap(df_bad_heatmap)"
   ]
  },
  {
   "cell_type": "code",
   "execution_count": null,
   "metadata": {},
   "outputs": [],
   "source": []
  }
 ],
 "metadata": {
  "kernelspec": {
   "display_name": "Python 3",
   "language": "python",
   "name": "python3"
  },
  "language_info": {
   "codemirror_mode": {
    "name": "ipython",
    "version": 3
   },
   "file_extension": ".py",
   "mimetype": "text/x-python",
   "name": "python",
   "nbconvert_exporter": "python",
   "pygments_lexer": "ipython3",
   "version": "3.9.6"
  },
  "orig_nbformat": 4
 },
 "nbformat": 4,
 "nbformat_minor": 2
}
